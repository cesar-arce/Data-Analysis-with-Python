{
 "cells": [
  {
   "cell_type": "markdown",
   "metadata": {},
   "source": [
    "# Statistics Introduction Applied to Data Science\n",
    "## Lab : Five\n",
    "## Data Pre-Processing"
   ]
  },
  {
   "cell_type": "markdown",
   "metadata": {},
   "source": [
    "### Required libraries"
   ]
  },
  {
   "cell_type": "code",
   "execution_count": null,
   "metadata": {},
   "outputs": [],
   "source": [
    "import pandas as pd\n",
    "import numpy as np"
   ]
  },
  {
   "cell_type": "code",
   "execution_count": null,
   "metadata": {},
   "outputs": [],
   "source": [
    "df_test = pd.read_csv('data/Operations_empty.csv')"
   ]
  },
  {
   "cell_type": "code",
   "execution_count": null,
   "metadata": {},
   "outputs": [],
   "source": [
    "df_test.head()"
   ]
  },
  {
   "cell_type": "markdown",
   "metadata": {},
   "source": [
    "We eliminate the missing values from shopping column"
   ]
  },
  {
   "cell_type": "code",
   "execution_count": null,
   "metadata": {},
   "outputs": [],
   "source": [
    "df_test.dropna(subset=[\"Purchases\"], axis=0, inplace = True)\n",
    "df_test.head()"
   ]
  },
  {
   "cell_type": "markdown",
   "metadata": {},
   "source": [
    "We replace the missing values of sales column with the average value."
   ]
  },
  {
   "cell_type": "code",
   "execution_count": null,
   "metadata": {},
   "outputs": [],
   "source": [
    "my_mean = df_test[\"Sales\"].mean()\n",
    "df_test[\"Sales\"].replace(np.nan, int(my_mean), inplace = True)\n",
    "df_test.head()"
   ]
  },
  {
   "cell_type": "markdown",
   "metadata": {},
   "source": [
    "We add the columns Purchases, Sales and Refunds in thousands."
   ]
  },
  {
   "cell_type": "code",
   "execution_count": null,
   "metadata": {},
   "outputs": [],
   "source": [
    "df_test[\"Purchases in thousands\"] = df_test[\"Purchases\"]/1000\n",
    "df_test[\"Sales in thousands\"] = df_test[\"Sales\"]/1000\n",
    "df_test[\"Refunds in thousands\"] = df_test[\"Refunds\"]/1000\n",
    "\n",
    "df_test.head()"
   ]
  },
  {
   "cell_type": "markdown",
   "metadata": {},
   "source": [
    "We correct the data type of the customer column with the method astype()"
   ]
  },
  {
   "cell_type": "code",
   "execution_count": null,
   "metadata": {},
   "outputs": [],
   "source": [
    "df_test = df_test.astype({'Customer':'object'})\n",
    "df_test.dtypes"
   ]
  },
  {
   "cell_type": "markdown",
   "metadata": {},
   "source": [
    "## Data Normalization\n",
    "For this exercise we are going to use the employee data set."
   ]
  },
  {
   "cell_type": "code",
   "execution_count": null,
   "metadata": {},
   "outputs": [],
   "source": [
    "df_employees = pd.read_csv('data/Employees.csv')\n",
    "df_employees"
   ]
  },
  {
   "cell_type": "markdown",
   "metadata": {},
   "source": [
    "We are going to normalize the variables Age, Years worked and Salary."
   ]
  },
  {
   "cell_type": "code",
   "execution_count": null,
   "metadata": {},
   "outputs": [],
   "source": [
    "df_employees[['Age','Worked years','Salary']].head()"
   ]
  },
  {
   "cell_type": "markdown",
   "metadata": {},
   "source": [
    "Simple Feature Scaling method."
   ]
  },
  {
   "cell_type": "code",
   "execution_count": null,
   "metadata": {},
   "outputs": [],
   "source": [
    "df_norm1 = df_employees\n",
    "\n",
    "df_norm1[\"Age\"] = df_norm1[\"Age\"] / df_norm1[\"Age\"].max()\n",
    "df_norm1[\"Worked years\"] = df_norm1[\"Worked years\"] / df_norm1[\"Worked years\"].max()\n",
    "df_norm1[\"Salary\"] = df_norm1[\"Salary\"] / df_norm1[\"Salary\"].max()\n",
    "\n",
    "df_norm1[['Age','Worked years','Salary']].head()\n"
   ]
  },
  {
   "cell_type": "markdown",
   "metadata": {},
   "source": [
    "Min-Max method."
   ]
  },
  {
   "cell_type": "code",
   "execution_count": null,
   "metadata": {},
   "outputs": [],
   "source": [
    "df_norm2 = df_employees\n",
    "\n",
    "df_norm2[\"Age\"] = (df_norm2[\"Age\"] - df_norm2[\"Age\"].min()) / (df_norm2[\"Age\"].max() - df_norm2[\"Age\"].min())\n",
    "df_norm2[\"Worked years\"] = (df_norm2[\"Worked years\"] - df_norm2[\"Worked years\"].min()) / (df_norm2[\"Worked years\"].max() - df_norm2[\"Worked years\"].min())\n",
    "df_norm2[\"Salary\"] = (df_norm2[\"Salary\"] - df_norm2[\"Salary\"].min()) / (df_norm2[\"Salary\"].max() - df_norm2[\"Salary\"].min())\n",
    "\n",
    "df_norm2[['Age','Worked years','Salary']].head()\n"
   ]
  },
  {
   "cell_type": "markdown",
   "metadata": {},
   "source": [
    "Z-Score method."
   ]
  },
  {
   "cell_type": "code",
   "execution_count": null,
   "metadata": {},
   "outputs": [],
   "source": [
    "df_norm3 = df_employees\n",
    "\n",
    "df_norm3[\"Age\"] = (df_norm3[\"Age\"] - df_norm3[\"Age\"].mean()) / df_norm3[\"Age\"].std()\n",
    "df_norm3[\"Worked years\"] = (df_norm3[\"Worked years\"] - df_norm3[\"Worked years\"].mean()) / df_norm3[\"Worked years\"].std()\n",
    "df_norm3[\"Salary\"] = (df_norm3[\"Salary\"] - df_norm3[\"Salary\"].mean()) / df_norm3[\"Salary\"].std()\n",
    "\n",
    "df_norm3[['Age','Worked years','Salary']].head()"
   ]
  },
  {
   "cell_type": "code",
   "execution_count": null,
   "metadata": {},
   "outputs": [],
   "source": [
    "df_test.head(10)"
   ]
  },
  {
   "cell_type": "markdown",
   "metadata": {},
   "source": [
    "## Grouping into Classes\n",
    "We group sales into three categories: Low, Medium and High."
   ]
  },
  {
   "cell_type": "code",
   "execution_count": null,
   "metadata": {},
   "outputs": [],
   "source": [
    "my_class = np.linspace(min(df_test[\"Sales\"]), max(df_test[\"Sales\"]), 4)\n",
    "group_names = [\"Low\",\"Medium\",\"High\"]\n",
    "\n",
    "df_test[\"Sales Category\"] = pd.cut(df_test[\"Sales\"], my_class, labels = group_names, include_lowest = True)\n",
    "\n",
    "df_test[['Sales','Sales Category']].head()"
   ]
  },
  {
   "cell_type": "code",
   "execution_count": null,
   "metadata": {},
   "outputs": [],
   "source": [
    "df_test[['Payment Type','Purchases','Sales','Refunds','Country','Continent','Sales Category']].head()"
   ]
  },
  {
   "cell_type": "markdown",
   "metadata": {},
   "source": [
    "## Converting a categorical variable to numeric.\n",
    "#### Note that to join the dummy variables with the dataframe we use the concat method of Pandas library."
   ]
  },
  {
   "cell_type": "code",
   "execution_count": null,
   "metadata": {},
   "outputs": [],
   "source": [
    "df_dummies = pd.get_dummies(df_test['Payment Type'])\n",
    "df_test2 = pd.concat([df_test, df_dummies], axis = 1, sort = False)\n",
    "\n",
    "df_test2.head()"
   ]
  },
  {
   "cell_type": "markdown",
   "metadata": {},
   "source": [
    "### Practice One\n",
    "\n",
    "Add three columns to the df_test dataframe. The names of the new columns will be: \"Normal Sales\", \"Normal Purchases\" and \"Normal Refunds\". The data in each column correspond to the normalized values of Sales, Purchases and Refunds, respectively. Use the normalization method of your choice.\n"
   ]
  },
  {
   "cell_type": "code",
   "execution_count": null,
   "metadata": {},
   "outputs": [],
   "source": [
    "# Type your code here\n"
   ]
  },
  {
   "cell_type": "markdown",
   "metadata": {},
   "source": [
    "### Practice Two:\n",
    "\n",
    "Use the get_dummies and concat method to convert the Grade variable from df_employees dataframe into a numeric variable. Add the new numeric variables to the df_employees dataframe.\n"
   ]
  },
  {
   "cell_type": "code",
   "execution_count": null,
   "metadata": {},
   "outputs": [],
   "source": [
    "# Type your code here\n"
   ]
  },
  {
   "cell_type": "code",
   "execution_count": null,
   "metadata": {},
   "outputs": [],
   "source": []
  }
 ],
 "metadata": {
  "kernelspec": {
   "display_name": "Python",
   "language": "python",
   "name": "conda-env-python-py"
  },
  "language_info": {
   "codemirror_mode": {
    "name": "ipython",
    "version": 3
   },
   "file_extension": ".py",
   "mimetype": "text/x-python",
   "name": "python",
   "nbconvert_exporter": "python",
   "pygments_lexer": "ipython3",
   "version": "3.6.11"
  }
 },
 "nbformat": 4,
 "nbformat_minor": 4
}
