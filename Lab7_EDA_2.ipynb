{
 "cells": [
  {
   "cell_type": "markdown",
   "metadata": {},
   "source": [
    "# Statistics Introduction Applied to Data Science\n",
    "## Lab : Seven\n",
    "## Exploratory Data Analysis - Part Two"
   ]
  },
  {
   "cell_type": "code",
   "execution_count": null,
   "metadata": {},
   "outputs": [],
   "source": [
    "%matplotlib inline\n",
    "import matplotlib as mpl\n",
    "import matplotlib.pyplot as plt\n",
    "\n",
    "mpl.style.use('ggplot') #optional: for ggplot-like style\n",
    "\n",
    "# To check the latest version of Matplotlib library.\n",
    "print('Matplotlib version:', mpl.__version__) # >= 2.0.0"
   ]
  },
  {
   "cell_type": "code",
   "execution_count": null,
   "metadata": {},
   "outputs": [],
   "source": [
    "import numpy as np\n",
    "import pandas as pd"
   ]
  },
  {
   "cell_type": "code",
   "execution_count": null,
   "metadata": {},
   "outputs": [],
   "source": [
    "df_fat = pd.read_csv('data/Fat_Supply_Quantity_Data.csv')"
   ]
  },
  {
   "cell_type": "code",
   "execution_count": null,
   "metadata": {},
   "outputs": [],
   "source": [
    "df_fat.head()"
   ]
  },
  {
   "cell_type": "code",
   "execution_count": null,
   "metadata": {},
   "outputs": [],
   "source": [
    "# let's examine the types of the column labels\n",
    "# We examine the data type of the column names and verify that they are type text (str)\n",
    "all(isinstance(column, str) for column in df_fat.columns)"
   ]
  },
  {
   "cell_type": "code",
   "execution_count": null,
   "metadata": {},
   "outputs": [],
   "source": [
    "df_fat.shape"
   ]
  },
  {
   "cell_type": "code",
   "execution_count": null,
   "metadata": {},
   "outputs": [],
   "source": [
    "# We delete the empty rows of the Obesity variable, using dropna.\n",
    "df_fat.dropna(subset=[\"Obesity\"], axis=0, inplace = True)\n",
    "df_fat.shape"
   ]
  },
  {
   "cell_type": "code",
   "execution_count": null,
   "metadata": {},
   "outputs": [],
   "source": [
    "# We make the country as the index of the dataframe to facilitate searches with loc method.\n",
    "df_fat.set_index('Country', inplace = True)\n",
    "df_fat.head()"
   ]
  },
  {
   "cell_type": "code",
   "execution_count": null,
   "metadata": {},
   "outputs": [],
   "source": [
    "df_fat['Obesity'].head(10)"
   ]
  },
  {
   "cell_type": "markdown",
   "metadata": {},
   "source": [
    "## Histogram"
   ]
  },
  {
   "cell_type": "code",
   "execution_count": null,
   "metadata": {},
   "outputs": [],
   "source": [
    "# An easy way to create the histogram.\n",
    "df_fat['Obesity'].plot.hist()"
   ]
  },
  {
   "cell_type": "code",
   "execution_count": null,
   "metadata": {},
   "outputs": [],
   "source": [
    "# np.histogram returns 2 values as lists. \n",
    "# The first list contains count or frequency of the variable.\n",
    "# The second list contains the class ranges.\n",
    "\n",
    "count, bin_edges = np.histogram(df_fat['Obesity'])\n",
    "\n",
    "print(count) # Number of frequencies\n",
    "print(bin_edges) # class range, by default: 10 bins"
   ]
  },
  {
   "cell_type": "code",
   "execution_count": null,
   "metadata": {},
   "outputs": [],
   "source": [
    "# With the parameter kind = 'hist' we indicate that we want to graph a histogram.\n",
    "# With the figsize parameter we indicate the size of the graph.\n",
    "# In the xticks parameter we indicate our class range. Notice that bin_edges is the second value returned by np.histogram.\n",
    "# With the title method we specify a title to the chart.\n",
    "# With the ylabel and xlabel methods we specify titles to the axes.\n",
    "\n",
    "df_fat['Obesity'].plot(kind='hist', figsize=(8,5), xticks=bin_edges)\n",
    "plt.title('Obesity Index Histogram on 167 countries')\n",
    "plt.ylabel('Countries')\n",
    "plt.xlabel('Obesity Index')\n",
    "\n",
    "plt.show()"
   ]
  },
  {
   "cell_type": "markdown",
   "metadata": {},
   "source": [
    "### Applying empirical criteria to determine class number and rank"
   ]
  },
  {
   "cell_type": "code",
   "execution_count": null,
   "metadata": {},
   "outputs": [],
   "source": [
    "# From 1 to 16\n",
    "for i in range(1,16):\n",
    "    class_count = i\n",
    "    # If the value of 2 raised to i is greater than the number of observations, we are done.\n",
    "    if 2 ** i > df_fat.shape[0]:\n",
    "       break\n",
    "\n",
    "# We apply the formula to calculate the class range.\n",
    "class_range = (df_fat['Obesity'].max() - df_fat['Obesity'].min())/class_count\n",
    "\n",
    "# print results.\n",
    "print('class count: ', class_count)\n",
    "print('class: range ', class_range)\n",
    "\n",
    "# Minimum and Maximum Obesity Index.\n",
    "print('Minimum: ', df_fat['Obesity'].min())\n",
    "print('Maximum: ', df_fat['Obesity'].max())"
   ]
  },
  {
   "cell_type": "markdown",
   "metadata": {},
   "source": [
    "### We create our own class range"
   ]
  },
  {
   "cell_type": "code",
   "execution_count": null,
   "metadata": {},
   "outputs": [],
   "source": [
    "# We adjust the number of classes.\n",
    "num_bin = 9\n",
    "\n",
    "# We adjust the class range\n",
    "class_range = 5\n",
    "\n",
    "# In this list we save the class ranges.\n",
    "new_bin = []\n",
    "\n",
    "# In this list we keep the number of countries.\n",
    "ncount = []\n",
    "\n",
    "# Initializing range values.\n",
    "begin_value = 0\n",
    "end_value = 2\n",
    "new_bin.append(end_value)\n",
    "\n",
    "# Cycle to get class range.\n",
    "for i in range(num_bin):\n",
    "    # Increments the final value by the value of the class range.\n",
    "    end_value += class_range\n",
    "    \n",
    "    # Save the new range to the class list.\n",
    "    new_bin.append(end_value)\n",
    "\n",
    "    # We count the number of countries within the class range.\n",
    "    ncount.append(df_fat[(df_fat['Obesity'] >= begin_value) & (df_fat['Obesity'] < end_value)].shape[0])\n",
    "    \n",
    "    # The new starting value is the ending value.\n",
    "    begin_value = end_value\n",
    "\n",
    "print('Countries count: ', ncount)\n",
    "print('Class count:', new_bin)"
   ]
  },
  {
   "cell_type": "markdown",
   "metadata": {},
   "source": [
    "### We use our custom class range to build the Histogram."
   ]
  },
  {
   "cell_type": "code",
   "execution_count": null,
   "metadata": {},
   "outputs": [],
   "source": [
    "# In parameters bins y xticks we specify our custom class range \"new_bin\".\n",
    "\n",
    "count, bin_edges = np.histogram(df_fat['Obesity'], num_bin)\n",
    "\n",
    "df_fat['Obesity'].plot(kind = 'hist',\n",
    "                       figsize = (8,5),\n",
    "                       bins = new_bin,\n",
    "                       xticks = new_bin,\n",
    "                       color ='mediumseagreen'\n",
    "                      )\n",
    "\n",
    "plt.title('Obesity Index Histogram on 167 countries')\n",
    "plt.ylabel('Countries')\n",
    "plt.xlabel('Obesity Index')\n",
    "\n",
    "plt.show()"
   ]
  },
  {
   "cell_type": "markdown",
   "metadata": {},
   "source": [
    "Notice that the x-axis labels correspond to our custom class range. Some symmetry is seen in the distribution of the obesity rate if we compare the index ranges from 12 to 37.\n",
    "\n",
    "The largest group corresponds to countries that maintain an obesity rate between 22 and 27. According to the BMI classification table, this group made up of 47 countries is in a degree of pre-obesity. This is not very good news for health systems in general.\n"
   ]
  },
  {
   "cell_type": "code",
   "execution_count": null,
   "metadata": {},
   "outputs": [],
   "source": [
    "# Let's explore the column names of our dataframe\n",
    "df_fat.columns.values"
   ]
  },
  {
   "cell_type": "code",
   "execution_count": null,
   "metadata": {},
   "outputs": [],
   "source": [
    "# We can build histogram with multiple variables.\n",
    "df_fat[['Cereals - Excluding Beer','Meat', 'Milk - Excluding Butter']].plot(kind='hist', figsize=(10,6))\n",
    "\n",
    "plt.title('Fat Supply Quantity Data by Foods')\n",
    "plt.ylabel('Countries')\n",
    "plt.xlabel('Fat Suppy')\n",
    "\n",
    "plt.show()"
   ]
  },
  {
   "cell_type": "code",
   "execution_count": null,
   "metadata": {},
   "outputs": [],
   "source": [
    "# We define a new dataframe called df_three with our three variables of interest.\n",
    "# With np.histogram we obtain the frequencies and the class range.\n",
    "\n",
    "df_three = df_fat[['Cereals - Excluding Beer','Meat','Milk - Excluding Butter']]\n",
    "count, bin_edges = np.histogram(df_three, 10)\n",
    "\n",
    "#un-staked histogram\n",
    "df_three.plot(kind = 'hist',\n",
    "             figsize=(13, 8),\n",
    "             bins = 10,\n",
    "             alpha=0.6,\n",
    "             xticks=bin_edges,\n",
    "             color=['Orange','darkslateblue','mediumseagreen']\n",
    "            )\n",
    "\n",
    "plt.title('Fat Supply Quantity Data by three Foods')\n",
    "plt.ylabel('Countries')\n",
    "plt.xlabel('Fat Supply')\n",
    "\n",
    "plt.show()"
   ]
  },
  {
   "cell_type": "markdown",
   "metadata": {},
   "source": [
    "Both cereals and milk show a positive asymmetric distribution, which indicates that the fat intake from these sources is very low. Notice how different is the distribution of fat from meat, which on average contributes between 5.43 and 10.68 percent, in around 80 countries."
   ]
  },
  {
   "cell_type": "markdown",
   "metadata": {},
   "source": [
    "### Practice One:\n",
    "\n",
    "Construct a frequency histogram with the variables: Eggs and Fish, Seafood.\n",
    "What can be said about their distributions?"
   ]
  },
  {
   "cell_type": "code",
   "execution_count": null,
   "metadata": {},
   "outputs": [],
   "source": [
    "# Type your code here\n"
   ]
  },
  {
   "cell_type": "markdown",
   "metadata": {},
   "source": [
    "## Pearson's correlation coefficient and p value."
   ]
  },
  {
   "cell_type": "markdown",
   "metadata": {},
   "source": [
    "We need the scipy stats library for the correlation coefficient."
   ]
  },
  {
   "cell_type": "code",
   "execution_count": null,
   "metadata": {},
   "outputs": [],
   "source": [
    "from scipy import stats"
   ]
  },
  {
   "cell_type": "markdown",
   "metadata": {},
   "source": [
    "### Let's explore some relationships of sources fat vs. obesity."
   ]
  },
  {
   "cell_type": "markdown",
   "metadata": {},
   "source": [
    "Meat vs Obesity."
   ]
  },
  {
   "cell_type": "code",
   "execution_count": null,
   "metadata": {},
   "outputs": [],
   "source": [
    "pearson_coef, p_value = stats.pearsonr(df_fat['Meat'], df_fat['Obesity'])\n",
    "print(\"Pearson's correlation coefficient: \", pearson_coef, \" p value: \", p_value)\n",
    "\n",
    "if p_value < 0.001:\n",
    "    print(\"High certainty\")\n",
    "elif p_value < 0.05:\n",
    "    print(\"Moderate certainty\")\n",
    "elif p_value < 0.1:\n",
    "    print(\"Low certainty\")\n",
    "else:\n",
    "    print(\"Lack of certainty\")\n"
   ]
  },
  {
   "cell_type": "markdown",
   "metadata": {},
   "source": [
    "Animal Products vs Obesity."
   ]
  },
  {
   "cell_type": "code",
   "execution_count": null,
   "metadata": {},
   "outputs": [],
   "source": [
    "pearson_coef, p_value = stats.pearsonr(df_fat['Animal Products'], df_fat['Obesity'])\n",
    "print(\"Pearson's correlation coefficient: \", pearson_coef, \" p value: \", p_value)\n",
    "\n",
    "if p_value < 0.001:\n",
    "    print(\"High certainty\")\n",
    "elif p_value < 0.05:\n",
    "    print(\"Moderate certainty\")\n",
    "elif p_value < 0.1:\n",
    "    print(\"Low certainty\")\n",
    "else:\n",
    "    print(\"ALack of certainty\")\n"
   ]
  },
  {
   "cell_type": "markdown",
   "metadata": {},
   "source": [
    "To analyze several coefficients it is better to construct a correlation matrix. We do this with corr() method"
   ]
  },
  {
   "cell_type": "code",
   "execution_count": null,
   "metadata": {},
   "outputs": [],
   "source": [
    "df_fat[['Animal Products','Meat','Cereals - Excluding Beer','Sugar & Sweeteners','Obesity']].corr()"
   ]
  },
  {
   "cell_type": "markdown",
   "metadata": {},
   "source": [
    "We can import the pandas scatter_matrix library to obtain the same correlation matrix but graphically. The relationship between variables is shown with a scatter plot. The relationship between the same variable is shown with a frequency histogram. This allows us to analyze its shape."
   ]
  },
  {
   "cell_type": "code",
   "execution_count": null,
   "metadata": {},
   "outputs": [],
   "source": [
    "from pandas.plotting import scatter_matrix"
   ]
  },
  {
   "cell_type": "code",
   "execution_count": null,
   "metadata": {},
   "outputs": [],
   "source": [
    "scatter_matrix(df_fat[['Animal Products','Meat','Cereals - Excluding Beer','Sugar & Sweeteners','Obesity']], figsize = (17,14))\n",
    "plt.show()"
   ]
  },
  {
   "cell_type": "markdown",
   "metadata": {},
   "source": [
    "We therefore see the distributions of each variable in a single graph and we can quickly detect if any pattern or trend is observed when we cross their values using the scatter plot. The most interesting correlations, whether we look at the correlation matrix or the scatter matrix, are between the variables: Obesity with Cereals and Meat with Animal Products."
   ]
  },
  {
   "cell_type": "markdown",
   "metadata": {},
   "source": [
    "## Regression Plot"
   ]
  },
  {
   "cell_type": "markdown",
   "metadata": {},
   "source": [
    "To obtain the regression plot easy and fast we use the Seaborn library. Let's make the regression plot of the most strongly correlated variables of the set of variables identified in the previous analysis."
   ]
  },
  {
   "cell_type": "code",
   "execution_count": null,
   "metadata": {},
   "outputs": [],
   "source": [
    "import seaborn as sns\n",
    "%matplotlib inline"
   ]
  },
  {
   "cell_type": "markdown",
   "metadata": {},
   "source": [
    "Animal Products vs. Meat."
   ]
  },
  {
   "cell_type": "code",
   "execution_count": null,
   "metadata": {},
   "outputs": [],
   "source": [
    "sns.regplot(x = \"Animal Products\", y = \"Meat\", data = df_fat)"
   ]
  },
  {
   "cell_type": "markdown",
   "metadata": {},
   "source": [
    "Cereals vs. Obesity."
   ]
  },
  {
   "cell_type": "code",
   "execution_count": null,
   "metadata": {},
   "outputs": [],
   "source": [
    "sns.regplot(x = \"Cereals - Excluding Beer\", y = \"Obesity\", data = df_fat, color = 'mediumseagreen')\n",
    "plt.ylim(0,)"
   ]
  },
  {
   "cell_type": "markdown",
   "metadata": {},
   "source": [
    "Code to increase the size of the regression plot."
   ]
  },
  {
   "cell_type": "code",
   "execution_count": null,
   "metadata": {},
   "outputs": [],
   "source": [
    "plt.figure(figsize = (12, 8))\n",
    "ax = sns.regplot(x = \"Cereals - Excluding Beer\", y = \"Obesity\", data = df_fat, color = 'mediumseagreen')\n",
    "plt.ylim(0,)"
   ]
  },
  {
   "cell_type": "markdown",
   "metadata": {},
   "source": [
    "### Practice Two:\n",
    "Build:\n",
    "\n",
    "* Correlation matrix with the variables Eggs, Fish Seafood and Obesity.\n",
    "* Regression plot with the variables Eggs and Obesity.\n",
    "* Regression plot with the variables Fish, Seafood and Obesity.\n",
    "* Which of the two sources of fat is more correlated with Obesity?\n",
    "\n",
    "Remember, obesity is the dependent variable."
   ]
  },
  {
   "cell_type": "code",
   "execution_count": null,
   "metadata": {},
   "outputs": [],
   "source": [
    "# Type your code here\n"
   ]
  },
  {
   "cell_type": "markdown",
   "metadata": {},
   "source": [
    "We load a new dataset for the following analyzes. The new dataset corresponds to the suicides that occurred worldwide, from 1987 to 2014."
   ]
  },
  {
   "cell_type": "code",
   "execution_count": null,
   "metadata": {},
   "outputs": [],
   "source": [
    "df_suicide = pd.read_csv('data/suicide.csv')"
   ]
  },
  {
   "cell_type": "code",
   "execution_count": null,
   "metadata": {},
   "outputs": [],
   "source": [
    "df_suicide.head()"
   ]
  },
  {
   "cell_type": "markdown",
   "metadata": {},
   "source": [
    "<h3>Analysis of Variance (ANOVA)</h3>\n",
    "\n",
    "<p>Analysis of variance, as we have seen, is a statistical method that can be used to verify whether there are significant differences between the means of two or more groups. Analysis of variance returns two values: </p>\n",
    "\n",
    "<p><b>F statistic</b>: ANOVA assumes that the means of all groups are the same until proven otherwise. Then calculate how much the real means deviate from the assumption. This is indicated by the F statistic. The larger the value of F, the greater the difference between the means.</p>\n",
    "\n",
    "<p><b>p value</b>: p value tells us how statistically significant the F value is.</p>\n",
    "\n",
    "<p>We will do an analysis of variance with the variables generation and number of suicides. The objective of the test is to determine if there is any correlation between generational groups and the number of suicides.</p>\n",
    "\n",
    "<p>If our generation variable is strongly correlated with the number of suicides, the ANOVA test will return a high score in the F statistic and a small p value.</p>"
   ]
  },
  {
   "cell_type": "code",
   "execution_count": null,
   "metadata": {},
   "outputs": [],
   "source": [
    "# We take only the variables generation and suicides_no.\n",
    "df_suic_group = df_suicide[['generation','suicides_no']]\n",
    "df_suic_group.head()"
   ]
  },
  {
   "cell_type": "code",
   "execution_count": null,
   "metadata": {},
   "outputs": [],
   "source": [
    "# A brief summary of the generations\n",
    "df_suic_group.groupby(['generation'], as_index = False).count()"
   ]
  },
  {
   "cell_type": "markdown",
   "metadata": {},
   "source": [
    "First we group by the categorical variable generation."
   ]
  },
  {
   "cell_type": "code",
   "execution_count": null,
   "metadata": {},
   "outputs": [],
   "source": [
    "group_df_suicide = df_suicide[['generation', 'suicides_no']].groupby(['generation'])\n",
    "group_df_suicide.head(2)"
   ]
  },
  {
   "cell_type": "markdown",
   "metadata": {},
   "source": [
    "We can get the values of the groups using the get_group method.\n",
    "So, for instance if I want the group values Millenials:"
   ]
  },
  {
   "cell_type": "code",
   "execution_count": null,
   "metadata": {},
   "outputs": [],
   "source": [
    "group_df_suicide.get_group('Millenials')['suicides_no']"
   ]
  },
  {
   "cell_type": "markdown",
   "metadata": {},
   "source": [
    "Now that we know how to create the groups and obtain their values, we are going to use the f_oneway method of the stats library to perform our analysis of variance. Let's do it for all generations.\n"
   ]
  },
  {
   "cell_type": "code",
   "execution_count": null,
   "metadata": {},
   "outputs": [],
   "source": [
    "f_val, p_val = stats.f_oneway(group_df_suicide.get_group('Boomers')['suicides_no'], \n",
    "                              group_df_suicide.get_group('G.I. Generation')['suicides_no'], \n",
    "                              group_df_suicide.get_group('Generation X')['suicides_no'],\n",
    "                              group_df_suicide.get_group('Generation Z')['suicides_no'],\n",
    "                              group_df_suicide.get_group('Millenials')['suicides_no'], \n",
    "                              group_df_suicide.get_group('Silent')['suicides_no'])\n",
    " \n",
    "print( \"ANOVA Result: F=\", f_val, \", P =\", p_val)\n"
   ]
  },
  {
   "cell_type": "markdown",
   "metadata": {},
   "source": [
    "A very interesting result. It turns out that generational groups are strongly correlated with the incidence of suicide worldwide in the years of the study. But will it be all or just some of them?\n"
   ]
  },
  {
   "cell_type": "markdown",
   "metadata": {},
   "source": [
    "### Practice Three:\n",
    "\n",
    "Identify among all generational groups:\n",
    "* Which of them is more correlated with the incidence of suicides?\n",
    "* Which of them is least correlated?\n",
    "* What is the significance for these?\n"
   ]
  },
  {
   "cell_type": "code",
   "execution_count": null,
   "metadata": {},
   "outputs": [],
   "source": [
    "# Type your code here\n"
   ]
  }
 ],
 "metadata": {
  "kernelspec": {
   "display_name": "Python",
   "language": "python",
   "name": "conda-env-python-py"
  },
  "language_info": {
   "codemirror_mode": {
    "name": "ipython",
    "version": 3
   },
   "file_extension": ".py",
   "mimetype": "text/x-python",
   "name": "python",
   "nbconvert_exporter": "python",
   "pygments_lexer": "ipython3",
   "version": "3.6.11"
  }
 },
 "nbformat": 4,
 "nbformat_minor": 4
}
